{
 "cells": [
  {
   "cell_type": "markdown",
   "id": "whole-johnston",
   "metadata": {},
   "source": [
    "# AutoEncoder\n",
    "\n",
    "   "
   ]
  },
  {
   "cell_type": "markdown",
   "id": "7878269b",
   "metadata": {},
   "source": [
    "# Import"
   ]
  },
  {
   "cell_type": "code",
   "execution_count": 31,
   "id": "dietary-render",
   "metadata": {},
   "outputs": [],
   "source": [
    "import torch \n",
    "import numpy as np\n",
    "import pandas as pd\n",
    "import torch.nn as nn\n",
    "import torch.optim as optim\n",
    "import torch.utils.data as data\n",
    "from torch.utils.data import DataLoader,Dataset"
   ]
  },
  {
   "cell_type": "code",
   "execution_count": 4,
   "id": "1e6d54b0",
   "metadata": {},
   "outputs": [
    {
     "data": {
      "text/plain": [
       "<torch._C.Generator at 0x7fb2cef52330>"
      ]
     },
     "execution_count": 4,
     "metadata": {},
     "output_type": "execute_result"
    }
   ],
   "source": [
    "torch.manual_seed(0)"
   ]
  },
  {
   "cell_type": "markdown",
   "id": "ceacae8f",
   "metadata": {},
   "source": [
    " \n",
    "# 读取Excel文件"
   ]
  },
  {
   "cell_type": "code",
   "execution_count": 51,
   "id": "437f732d",
   "metadata": {},
   "outputs": [],
   "source": [
    "df = pd.read_excel('data.xlsx', sheet_name='I_T（干细胞-高精确版）')"
   ]
  },
  {
   "cell_type": "markdown",
   "id": "625a9216",
   "metadata": {},
   "source": [
    "# Dataset"
   ]
  },
  {
   "cell_type": "code",
   "execution_count": 164,
   "id": "e9785096",
   "metadata": {},
   "outputs": [],
   "source": [
    "class Dataset(Dataset):\n",
    "    def __init__(self, df):\n",
    "        self.df = df\n",
    "        self.dic = {'@':0, 'A':1, 'C':2, 'G':3, 'T':4} # @ for padding\n",
    "        self.pad_length = 120\n",
    "\n",
    "    def __getitem__(self, idx):\n",
    "#         return int(self.df.iloc[idx, 0]), self.df.iloc[idx, 1]\n",
    "        rna = self.df.iloc[0,0] \n",
    "        rna = rna[:self.pad_length] if len(rna) > self.pad_length else rna + (self.pad_length-len(rna)) * '@'\n",
    "        rna=[self.dic[x] for x in rna]\n",
    "        ratio = self.df.iloc[idx, 1]\n",
    "        return  torch.tensor(rna, dtype=torch.float32), torch.tensor([ratio], dtype=torch.float32)\n",
    "\n",
    "    def __len__(self):\n",
    "        return len(self.df)"
   ]
  },
  {
   "cell_type": "markdown",
   "id": "2d906083",
   "metadata": {},
   "source": [
    "# Model structure"
   ]
  },
  {
   "cell_type": "code",
   "execution_count": 156,
   "id": "wrong-acrobat",
   "metadata": {},
   "outputs": [],
   "source": [
    "class Encoder(nn.Module):\n",
    "    def __init__(self):\n",
    "        super(Encoder, self).__init__()\n",
    "        # Encoder\n",
    "        self.encoder = nn.Sequential(\n",
    "            nn.Linear(120, 64),\n",
    "            nn.Tanh(),\n",
    "            nn.Linear(64, 32),\n",
    "            nn.Tanh(),\n",
    "            nn.Linear(32, 16),\n",
    "            nn.Tanh(),\n",
    "            nn.Linear(16, 1),\n",
    "#             nn.Tanh()\n",
    "            nn.Sigmoid()\n",
    "        )\n",
    "    def forward(self, inputs):\n",
    "        codes = self.encoder(inputs)\n",
    "        return codes\n",
    "    \n",
    "class Decoder(nn.Module):\n",
    "    def __init__(self):\n",
    "        super(Decoder, self).__init__()\n",
    "        # Decoder\n",
    "        self.decoder = nn.Sequential(\n",
    "            nn.Linear(1, 16),\n",
    "            nn.Tanh(),\n",
    "            nn.Linear(16, 32),\n",
    "            nn.Tanh(),\n",
    "            nn.Linear(32, 64),\n",
    "            nn.Tanh(),\n",
    "            nn.Linear(64, 120),\n",
    "#             nn.Sigmoid()\n",
    "        )\n",
    "    def forward(self, inputs):\n",
    "        outputs = self.decoder(inputs)\n",
    "        return outputs"
   ]
  },
  {
   "cell_type": "markdown",
   "id": "intelligent-failure",
   "metadata": {},
   "source": [
    "# Train"
   ]
  },
  {
   "cell_type": "code",
   "execution_count": 182,
   "id": "ethical-muslim",
   "metadata": {},
   "outputs": [
    {
     "name": "stdout",
     "output_type": "stream",
     "text": [
      "[Cur: 1/ Total: 20] \n",
      "[Cur: 3/ Total: 20] \n",
      "[Cur: 5/ Total: 20] \n",
      "[Cur: 7/ Total: 20] \n",
      "[Cur: 9/ Total: 20] \n",
      "[Cur: 11/ Total: 20] \n",
      "[Cur: 13/ Total: 20] \n",
      "[Cur: 15/ Total: 20] \n",
      "[Cur: 17/ Total: 20] \n",
      "[Cur: 19/ Total: 20] \n"
     ]
    }
   ],
   "source": [
    "epochs = 20\n",
    "batch_size = 64\n",
    "lr = 0.001\n",
    "use_cuda = 1\n",
    "device = torch.device(\"cuda\" if (torch.cuda.is_available() & use_cuda) else \"cpu\")\n",
    "train_loader = torch.utils.data.DataLoader(\n",
    "    dataset=Dataset(df[['context','ratio']]), \n",
    "    batch_size=batch_size, \n",
    "    shuffle=True)\n",
    "val_loader = torch.utils.data.DataLoader(\n",
    "    dataset=Dataset(df[['context','ratio']]), \n",
    "    batch_size=batch_size, \n",
    "    shuffle=True)\n",
    "\n",
    "model_encoder = Encoder().to(device)\n",
    "model_decoder = Decoder().to(device)\n",
    "\n",
    "optimizer_En = torch.optim.Adam(model_encoder.parameters(), lr=lr)\n",
    "optimizer_De = torch.optim.Adam(model_decoder.parameters(), lr=lr)\n",
    "loss_function_de = nn.MSELoss().to(device)\n",
    "loss_function_en = nn.MSELoss().to(device)\n",
    "\n",
    "# Train\n",
    "model_encoder.train()\n",
    "model_decoder.train()\n",
    "log_loss=[]\n",
    "for epoch in range(epochs):\n",
    "    total_loss = 0\n",
    "    for rna, ratio in train_loader:\n",
    "        rna = rna.to(device) \n",
    "        ratio = ratio.to(device) \n",
    "        \n",
    "        model_encoder.zero_grad()\n",
    "        model_decoder.zero_grad()\n",
    "        \n",
    "        codes = model_encoder(rna)\n",
    "        decoded = model_decoder(ratio)\n",
    "    \n",
    "        loss_en = loss_function_en(codes, ratio)\n",
    "        loss_de = loss_function_de(decoded, rna)\n",
    "        \n",
    "        loss_en.backward()\n",
    "        loss_de.backward()\n",
    "        \n",
    "        optimizer_En.step()\n",
    "        optimizer_De.step()\n",
    "    if epoch % 2 ==0:\n",
    "        print('[Cur: {}/ Total: {}] '.format(epoch+1, epochs))\n",
    "torch.save(model_decoder, 'mode_AutoEncoder_Decoder.pth')"
   ]
  },
  {
   "cell_type": "markdown",
   "id": "76e6ccc4",
   "metadata": {},
   "source": [
    "# Test"
   ]
  },
  {
   "cell_type": "code",
   "execution_count": 184,
   "id": "accomplished-wilderness",
   "metadata": {},
   "outputs": [
    {
     "name": "stdout",
     "output_type": "stream",
     "text": [
      "Generated RNA Seq by AE\n",
      "[[1. 4. 3. 2. 4. 4. 4. 3. 4. 3. 4. 3. 3. 1. 1. 1. 3. 2. 4. 4. 2. 1. 3. 4.\n",
      "  3. 4. 3. 1. 3. 1. 1. 4. 3. 4. 1. 2. 1. 1. 3. 1. 3. 1. 4. 1. 2. 2. 4. 3.\n",
      "  4. 1. 4. 4. 4. 3. 3. 1. 1. 4. 4. 3. 4. 3. 2. 2. 4. 3. 2. 4. 1. 4. 4. 1.\n",
      "  4. 4. 2. 1. 1. 1. 2. 3. 2. 2. 4. 1. 3. 4. 2. 3. 1. 3. 3. 2. 1. 2. 2. 1.\n",
      "  1. 1. 4. 3. 4. 4. 3. 3. 3. 3. 4. 3. 4. 3. 3. 1. 4. 4. 4. 2. 2. 1. 3. 2.]]\n",
      "Original RNA Seq\n",
      "[[1. 4. 3. 2. 4. 4. 4. 3. 4. 3. 4. 3. 3. 1. 1. 1. 3. 2. 4. 4. 2. 1. 3. 4.\n",
      "  3. 4. 3. 1. 3. 1. 1. 4. 3. 4. 1. 2. 1. 1. 3. 1. 3. 1. 4. 1. 2. 2. 4. 3.\n",
      "  4. 1. 4. 4. 4. 3. 3. 1. 1. 4. 4. 3. 4. 3. 2. 2. 4. 3. 2. 4. 1. 4. 4. 1.\n",
      "  4. 4. 2. 1. 1. 1. 2. 3. 2. 2. 4. 1. 3. 4. 2. 3. 1. 3. 3. 2. 1. 2. 2. 1.\n",
      "  1. 1. 4. 3. 4. 4. 3. 3. 3. 3. 4. 3. 4. 3. 3. 1. 4. 4. 4. 2. 2. 1. 3. 2.]]\n"
     ]
    }
   ],
   "source": [
    "dataset = Dataset(df[['context','ratio']])\n",
    "rna, ratio = dataset[0]\n",
    "\n",
    "rna = rna.unsqueeze(dim=0)\n",
    "ratio = ratio.unsqueeze(dim=0)\n",
    "\n",
    "rna = rna.to(device) \n",
    "ratio = ratio.to(device) \n",
    "\n",
    "model_decoder = torch.load('mode_AutoEncoder_Decoder.pth')\n",
    "model_decoder.eval()\n",
    "outputs = model_decoder(ratio)\n",
    "outputs = outputs.detach().cpu().numpy()\n",
    "outputs = np.round(outputs)\n",
    "outputs[outputs>4]=4\n",
    "print('Generated RNA Seq by AE')\n",
    "print(outputs)\n",
    "print('Original RNA Seq')\n",
    "print(rna.detach().cpu().numpy())\n",
    "\n",
    "# plt.show()"
   ]
  },
  {
   "cell_type": "code",
   "execution_count": null,
   "id": "f0c74313",
   "metadata": {},
   "outputs": [],
   "source": []
  }
 ],
 "metadata": {
  "kernelspec": {
   "display_name": "Python 3 (ipykernel)",
   "language": "python",
   "name": "python3"
  },
  "language_info": {
   "codemirror_mode": {
    "name": "ipython",
    "version": 3
   },
   "file_extension": ".py",
   "mimetype": "text/x-python",
   "name": "python",
   "nbconvert_exporter": "python",
   "pygments_lexer": "ipython3",
   "version": "3.9.13"
  }
 },
 "nbformat": 4,
 "nbformat_minor": 5
}
